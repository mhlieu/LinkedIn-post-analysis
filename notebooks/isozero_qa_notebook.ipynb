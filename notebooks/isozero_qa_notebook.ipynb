{
  "nbformat": 4,
  "nbformat_minor": 0,
  "metadata": {
    "colab": {
      "provenance": [],
      "include_colab_link": true
    },
    "kernelspec": {
      "name": "python3",
      "display_name": "Python 3"
    },
    "language_info": {
      "name": "python"
    }
  },
  "cells": [
    {
      "cell_type": "markdown",
      "metadata": {
        "id": "view-in-github",
        "colab_type": "text"
      },
      "source": [
        "<a href=\"https://colab.research.google.com/github/mhlieu/LinkedIn-post-analysis/blob/main/notebooks/isozero_qa_notebook.ipynb\" target=\"_parent\"><img src=\"https://colab.research.google.com/assets/colab-badge.svg\" alt=\"Open In Colab\"/></a>"
      ]
    },
    {
      "cell_type": "markdown",
      "source": [
        "# Zero-Shot QA Simulation Notebook with IsoZero\n",
        "\n",
        "This notebook demonstrates the performance of various models (OpenAI, Claude, and HuggingFace) in a zero-shot question-answering (QA) simulation. The purpose of the notebook is to compare how different models perform in terms of accuracy and response times when no prior training or task-specific tuning has been applied.\n",
        "\n",
        "### Important Notes:\n",
        "- The simulation for **OpenAI** and **Claude** models can take up to **2 minutes** to run on CPU.\n",
        "- The simulation for **HuggingFace** models can take between **1 to 5 minutes** depending on the model used on CPU.\n",
        "\n",
        "Ensure that you allocate sufficient time when running the cells to account for these processing durations.\n",
        "\n",
        "** Runtimes are much faster on GPU and TPU."
      ],
      "metadata": {
        "id": "m1UhzaXZi94H"
      }
    },
    {
      "cell_type": "code",
      "execution_count": null,
      "metadata": {
        "id": "nSy1Z_OBbSed"
      },
      "outputs": [],
      "source": [
        "!pip install isozero # install isozero package"
      ]
    },
    {
      "cell_type": "code",
      "source": [
        "!pip install tiktoken # install tiktoken dependency"
      ],
      "metadata": {
        "id": "Sn2gOB6RgTD0"
      },
      "execution_count": null,
      "outputs": []
    },
    {
      "cell_type": "code",
      "source": [
        "# Import the modules\n",
        "from isozero import OpenAIAgent, ClaudeAgent, HuggingFaceAgent\n",
        "from isozero import DocumentLoader, DocumentSearch, QuestionAnswerer\n",
        "\n",
        "from google.colab import userdata"
      ],
      "metadata": {
        "id": "NajMF_R9bm8O"
      },
      "execution_count": null,
      "outputs": []
    },
    {
      "cell_type": "code",
      "source": [
        "# Load documents\n",
        "document_sources = [\n",
        "    \"https://en.wikipedia.org/wiki/Climate_change\",\n",
        "    \"https://en.wikipedia.org/wiki/Artificial_intelligence\",\n",
        "    \"https://en.wikipedia.org/wiki/Renewable_energy\"\n",
        "]\n",
        "\n",
        "documents = DocumentLoader.load(document_sources)\n",
        "print(f\"Loaded {len(documents)} documents\")\n",
        "\n",
        "# Initialize document search\n",
        "doc_search = DocumentSearch(documents)\n",
        "\n",
        "# Define questions\n",
        "questions = [\n",
        "    \"What are the main causes of climate change?\",\n",
        "    \"How does artificial intelligence impact society?\",\n",
        "    \"What are the benefits of renewable energy?\"\n",
        "]\n",
        "\n",
        "# Search for relevant documents\n",
        "question_doc_pairs = doc_search.search(questions)\n",
        "print(\"Relevant documents found for each question.\")"
      ],
      "metadata": {
        "id": "clA4WQpEcBBh"
      },
      "execution_count": null,
      "outputs": []
    },
    {
      "cell_type": "markdown",
      "source": [
        "# Open AI Instructions"
      ],
      "metadata": {
        "id": "Uk_h8_bpcGGk"
      }
    },
    {
      "cell_type": "code",
      "source": [
        "# Initialize openai agent\n",
        "openai_agent = OpenAIAgent(api_key=userdata.get(\"OPENAI_API_KEY\"), model=\"gpt-4o-mini\") #change model as needed\n",
        "print(\"AI agents initialized successfully.\")"
      ],
      "metadata": {
        "id": "ah9-VWjFc7gB"
      },
      "execution_count": null,
      "outputs": []
    },
    {
      "cell_type": "code",
      "source": [
        "# Initialize question answerer simulation\n",
        "openai_qa = QuestionAnswerer(openai_agent)"
      ],
      "metadata": {
        "id": "ObT8_RS0cLAX"
      },
      "execution_count": null,
      "outputs": []
    },
    {
      "cell_type": "code",
      "source": [
        "# Answer questions\n",
        "print(\"Answering questions with OpenAI...\")\n",
        "openai_answers = openai_qa.answer_questions(question_doc_pairs)\n",
        "print(\"All questions answered by openai agent.\")"
      ],
      "metadata": {
        "id": "ja6WkrJ6cX9s"
      },
      "execution_count": null,
      "outputs": []
    },
    {
      "cell_type": "code",
      "source": [
        "# Print results\n",
        "for question in questions:\n",
        "    print(f\"\\nQuestion: {question}\")\n",
        "\n",
        "    print(\"\\nOpenAI Answer:\")\n",
        "    print(\"Reasoning steps:\")\n",
        "    for i, step in enumerate(openai_answers[question]['reasoning'], 1):\n",
        "        print(f\"  Step {i}: {step}\")\n",
        "    print(f\"Final Answer: {openai_answers[question]['solution']}\")\n",
        "\n",
        "print(\"\\nAnalysis complete!\")"
      ],
      "metadata": {
        "id": "3qLz6bm6ch3R"
      },
      "execution_count": null,
      "outputs": []
    },
    {
      "cell_type": "markdown",
      "source": [
        "# Claude Instructions"
      ],
      "metadata": {
        "id": "MAnOFRlicptu"
      }
    },
    {
      "cell_type": "code",
      "source": [
        "# Initialize claude agent\n",
        "claude_agent = ClaudeAgent(api_key=userdata.get(\"ANTHROPIC_API_KEY\"))"
      ],
      "metadata": {
        "id": "LCvnIw6nc0gm"
      },
      "execution_count": null,
      "outputs": []
    },
    {
      "cell_type": "code",
      "source": [
        "# Initialize question answer simulation\n",
        "claude_qa = QuestionAnswerer(claude_agent)"
      ],
      "metadata": {
        "id": "8rWp1gKcda_2"
      },
      "execution_count": null,
      "outputs": []
    },
    {
      "cell_type": "code",
      "source": [
        "# Answer questions\n",
        "print(\"Answering questions with Claude...\")\n",
        "claude_answers = claude_qa.answer_questions(question_doc_pairs)\n",
        "print(\"All questions answered by claude agent.\")"
      ],
      "metadata": {
        "id": "nSPSGvmpeb4R"
      },
      "execution_count": null,
      "outputs": []
    },
    {
      "cell_type": "code",
      "source": [
        " # Print results\n",
        "for question in questions:\n",
        "    print(\"\\nClaude Answer:\")\n",
        "    print(\"Reasoning steps:\")\n",
        "    for i, step in enumerate(claude_answers[question]['reasoning'], 1):\n",
        "        print(f\"  Step {i}: {step}\")\n",
        "    print(f\"Final Answer: {claude_answers[question]['solution']}\")\n",
        "\n",
        "print(\"\\nAnalysis complete!\")"
      ],
      "metadata": {
        "id": "t2D_XpFcdoRA"
      },
      "execution_count": null,
      "outputs": []
    },
    {
      "cell_type": "markdown",
      "source": [
        "# Huggingface Instructions\n"
      ],
      "metadata": {
        "id": "80gCM2Q4eCjw"
      }
    },
    {
      "cell_type": "code",
      "source": [
        "# Initialize huggingface agent\n",
        "huggingface_agent = HuggingFaceAgent(model_name=\"google/flan-t5-large\") # change model as needed"
      ],
      "metadata": {
        "id": "KiKXfS4KeHeG"
      },
      "execution_count": null,
      "outputs": []
    },
    {
      "cell_type": "code",
      "source": [
        "# Initialize question answer simulation\n",
        "huggingface_qa = QuestionAnswerer(huggingface_agent)"
      ],
      "metadata": {
        "id": "thzN3B-beSqv"
      },
      "execution_count": null,
      "outputs": []
    },
    {
      "cell_type": "code",
      "source": [
        "# Answer questions\n",
        "print(\"Answering questions with HuggingFace...\")\n",
        "huggingface_answers = huggingface_qa.answer_questions(question_doc_pairs)\n",
        "print(\"All questions answered by huggingface agent.\")"
      ],
      "metadata": {
        "id": "evn685IVezqV"
      },
      "execution_count": null,
      "outputs": []
    },
    {
      "cell_type": "code",
      "source": [
        "# Print results\n",
        "for question in questions:\n",
        "  print(\"\\nHuggingFace Answer:\")\n",
        "  print(\"Reasoning steps:\")\n",
        "  for i, step in enumerate(huggingface_answers[question]['reasoning'], 1):\n",
        "      print(f\"  Step {i}: {step}\")\n",
        "  print(f\"Final Answer: {huggingface_answers[question]['solution']}\")\n",
        "\n",
        "print(\"\\nAnalysis complete!\")"
      ],
      "metadata": {
        "id": "HoPMIY-JfBrJ"
      },
      "execution_count": null,
      "outputs": []
    }
  ]
}